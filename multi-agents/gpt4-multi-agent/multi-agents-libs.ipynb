{
 "cells": [
  {
   "cell_type": "code",
   "execution_count": 1,
   "id": "7a398c81-895b-4464-8534-fa715f9ffe04",
   "metadata": {},
   "outputs": [],
   "source": [
    "from googlesearch import search\n",
    "\n",
    "def load_sources():\n",
    "    results = []\n",
    "    search_query = \"ski competitions 2023-2024 winners\"\n",
    " \n",
    "    for j in search(search_query, tld=\"co.in\", num=5, stop=5, pause=2):\n",
    "        results.append(j)\n",
    "        print(j)\n",
    "\n",
    "    return results\n"
   ]
  },
  {
   "cell_type": "code",
   "execution_count": 2,
   "id": "3ae1a795-5dec-4889-81bf-36b7941b000b",
   "metadata": {},
   "outputs": [
    {
     "name": "stdout",
     "output_type": "stream",
     "text": [
      "https://www.eurosport.com/alpine-skiing/world-cup-1/calendar-results.shtml\n",
      "https://en.wikipedia.org/wiki/2023%E2%80%9324_FIS_Alpine_Ski_World_Cup\n",
      "https://www.fis-ski.com/DB/alpine-skiing/calendar-results.html?sectorcode=AL&seasoncode=2024&categorycode=WC&gendercode=W\n",
      "https://olympics.com/en/news/updated-rankings-2023-2024-fis-alpine-ski-world-cup-season-full-lists\n",
      "https://en.wikipedia.org/wiki/2024_Alpine_Skiing_World_Cup_%E2%80%93_Men%27s_overall\n"
     ]
    }
   ],
   "source": [
    "sources = load_sources()\n",
    "\n",
    "\n",
    "required_task_json = {\n",
    "    \"Task\": \"Write a compelling blog article about ski competitions 2023-2024 winners and its impact on the world of sport\",\n",
    "    \"main_topic_key\": \"winners of the competitions\",\n",
    "    \"Requirements\": {\n",
    "        \"sources_links\": sources,\n",
    "        \"Sources\": \"When you write the article you use take the information about main_topic_key from the sources_links. Print list of sources with links in the end of the article\",\n",
    "        \"Length\": \"The article should be at least 1,000 words long to provide a comprehensive exploration of the topic.\",\n",
    "        \n",
    "        \"Key Points\": [\"Discuss about main_topic_key.\", \n",
    "                       \"Highlight the potential benefits and opportunities of main_topic_key.\", \n",
    "                       \"Address the risks and challenges associated with main_topic_key.\",\n",
    "                       \"Explore the future implications of main_topic_key and how it may shape the world in the coming years.\"],\n",
    "\n",
    "        \"Tone and Style\": [\"Create an engaging and thought-provoking piece that raises questions and encourages readers to consider about main_topic_key.\", \n",
    "                       \"Use a clear, concise, and compelling writing style that resonates with a wide audience.\", \n",
    "                       \"Incorporate real-life examples, anecdotes, or expert opinions to support your arguments and make the content more relatable.\",\n",
    "                       \"Ensure that the blog post reads as if it were written by a human, with a natural flow and appropriate emotional touch.\"],\n",
    "\n",
    "        \"Structure\": [\"Begin with a captivating introduction that hooks the reader and sets the context for the article\", \n",
    "                       \"Organize the main points into logical sections and subsections, each focusing on a specific aspect of main_topic_key impact.\", \n",
    "                       \"Use appropriate transitions and linking words to ensure a smooth flow of ideas throughout the post.\",\n",
    "                       \"Conclude with a powerful message that summarizes the key takeaways and leaves the reader with food for thought.\"],\n",
    "\n",
    "        \"Structure\": [\"Conduct thorough research using reliable sources to gather relevant information, statistics, and expert opinions.\", \n",
    "                       \"Optimize the blog post for search engines by including relevant keywords and meta tags.\", \n",
    "                       \"Format the post using appropriate headings, subheadings, bullet points, and images to enhance readability and visual appeal.\",\n",
    "                       \"Proofread and edit the final draft to ensure it is error-free and polished.\"],\n",
    "    },\n",
    "}"
   ]
  },
  {
   "cell_type": "code",
   "execution_count": 3,
   "id": "5952ddb0-b5cd-4b86-9829-090aa13e7ed9",
   "metadata": {},
   "outputs": [],
   "source": [
    "import json\n",
    "\n",
    "def read_json_to_text(json_var):\n",
    "    json_string = json.dumps(json_var, sort_keys=True,\n",
    "    indent=4, separators=(',', ': '))\n",
    "\n",
    "    return json_string"
   ]
  },
  {
   "cell_type": "code",
   "execution_count": 4,
   "id": "fcec436f-039c-4092-9228-e7f59bf95b56",
   "metadata": {},
   "outputs": [],
   "source": [
    "def replace_many_rows(sub_requirement, key_to_replace):\n",
    "    \n",
    "    key_points = required_task_json[\"Requirements\"][sub_requirement]\n",
    "  \n",
    "    for i in range(len(key_points)):\n",
    "        key_points[i] = key_points[i].replace(key_to_replace, required_task_json[key_to_replace])\n",
    "\n",
    "def replace_single_row(replace, address):\n",
    "  \n",
    "  requirements = required_task_json.get(\"Requirements\")\n",
    "  if requirements:\n",
    "    sources_text = requirements.get(address)\n",
    "    if sources_text:\n",
    "      main_topic = required_task_json.get(replace)\n",
    "      requirements[address] = sources_text.replace(replace, main_topic)\n",
    "\n",
    "\n",
    "def replace_key(data, key_to_replace):\n",
    "    sub_requirements = [key for key in required_task_json[\"Requirements\"]]\n",
    "    sub_requirements.remove(\"sources_links\")\n",
    "    for i in range(len(sub_requirements)):\n",
    "        if sub_requirements[i] == \"Sources\" or sub_requirements[i] == \"Length\":\n",
    "            replace_single_row(key_to_replace, sub_requirements[i])\n",
    "        else:\n",
    "            replace_many_rows(sub_requirements[i], key_to_replace)\n",
    "\n",
    "    "
   ]
  },
  {
   "cell_type": "code",
   "execution_count": 5,
   "id": "3afc5105-3581-4c37-88a4-ee08fa53f274",
   "metadata": {},
   "outputs": [],
   "source": [
    "replace_key(required_task_json, \"main_topic_key\")\n",
    "#print(new_json)\n",
    "#replace_key(required_task_json, \"sources_links\", required_task_json[\"sources_links\"])"
   ]
  },
  {
   "cell_type": "code",
   "execution_count": 6,
   "id": "01f45d17-3c6b-4ba6-9840-8272a968efd7",
   "metadata": {},
   "outputs": [
    {
     "name": "stdout",
     "output_type": "stream",
     "text": [
      "{\n",
      "    \"Requirements\": {\n",
      "        \"Key Points\": [\n",
      "            \"Discuss about winners of the competitions.\",\n",
      "            \"Highlight the potential benefits and opportunities of winners of the competitions.\",\n",
      "            \"Address the risks and challenges associated with winners of the competitions.\",\n",
      "            \"Explore the future implications of winners of the competitions and how it may shape the world in the coming years.\"\n",
      "        ],\n",
      "        \"Length\": \"The article should be at least 1,000 words long to provide a comprehensive exploration of the topic.\",\n",
      "        \"Sources\": \"When you write the article you use take the information about winners of the competitions from the sources_links. Print list of sources with links in the end of the article\",\n",
      "        \"Structure\": [\n",
      "            \"Conduct thorough research using reliable sources to gather relevant information, statistics, and expert opinions.\",\n",
      "            \"Optimize the blog post for search engines by including relevant keywords and meta tags.\",\n",
      "            \"Format the post using appropriate headings, subheadings, bullet points, and images to enhance readability and visual appeal.\",\n",
      "            \"Proofread and edit the final draft to ensure it is error-free and polished.\"\n",
      "        ],\n",
      "        \"Tone and Style\": [\n",
      "            \"Create an engaging and thought-provoking piece that raises questions and encourages readers to consider about winners of the competitions.\",\n",
      "            \"Use a clear, concise, and compelling writing style that resonates with a wide audience.\",\n",
      "            \"Incorporate real-life examples, anecdotes, or expert opinions to support your arguments and make the content more relatable.\",\n",
      "            \"Ensure that the blog post reads as if it were written by a human, with a natural flow and appropriate emotional touch.\"\n",
      "        ],\n",
      "        \"sources_links\": [\n",
      "            \"https://www.eurosport.com/alpine-skiing/world-cup-1/calendar-results.shtml\",\n",
      "            \"https://en.wikipedia.org/wiki/2023%E2%80%9324_FIS_Alpine_Ski_World_Cup\",\n",
      "            \"https://www.fis-ski.com/DB/alpine-skiing/calendar-results.html?sectorcode=AL&seasoncode=2024&categorycode=WC&gendercode=W\",\n",
      "            \"https://olympics.com/en/news/updated-rankings-2023-2024-fis-alpine-ski-world-cup-season-full-lists\",\n",
      "            \"https://en.wikipedia.org/wiki/2024_Alpine_Skiing_World_Cup_%E2%80%93_Men%27s_overall\"\n",
      "        ]\n",
      "    },\n",
      "    \"Task\": \"Write a compelling blog article about ski competitions 2023-2024 winners and its impact on the world of sport\",\n",
      "    \"main_topic_key\": \"winners of the competitions\"\n",
      "}\n"
     ]
    }
   ],
   "source": [
    "text_data = read_json_to_text(required_task_json)\n",
    "#text_data = read_json_to_text(new_json)\n",
    "\n",
    "if text_data:\n",
    "  print(text_data)"
   ]
  },
  {
   "cell_type": "code",
   "execution_count": 7,
   "id": "ac862bff-4007-4c8f-a05c-584f32cbfb2e",
   "metadata": {},
   "outputs": [
    {
     "name": "stdout",
     "output_type": "stream",
     "text": [
      "TYPE: <class 'list'>\n"
     ]
    }
   ],
   "source": [
    "import json\n",
    "\n",
    "def replace_key_points2(required_task_json):\n",
    "  \"\"\"Replaces 'main_topic_key' with its content in 'Key Points' of the JSON.\n",
    "\n",
    "  Args:\n",
    "    required_task_json: The JSON dictionary containing the blog article requirements.\n",
    "\n",
    "  Returns:\n",
    "    The modified JSON dictionary with replaced keywords.\n",
    "  \"\"\"\n",
    "  key_points = required_task_json[\"Requirements\"][\"Key Points\"]\n",
    "  print(F\"TYPE: {type(key_points)}\",)\n",
    "  for i in range(len(key_points)):\n",
    "    key_points[i] = key_points[i].replace(\"main_topic_key\", required_task_json[\"main_topic_key\"])\n",
    "  #return required_task_json\n",
    "\n",
    "# Update the JSON in-place (avoid creating a copy)\n",
    "replace_key_points2(required_task_json)\n",
    "\n",
    "# Print the updated JSON (optional)\n",
    "#print(json.dumps(required_task_json, indent=4))\n"
   ]
  },
  {
   "cell_type": "code",
   "execution_count": 8,
   "id": "27127468-d791-4a67-a3fd-1fc9bcf0d99b",
   "metadata": {},
   "outputs": [],
   "source": [
    "\n",
    "required_task_json_ = (\n",
    "    \"Task: Write a compelling blog article about ski competitions 2023-2024 winners and its impact on the world of sport.\"\n",
    "    \"main_topic_key: winners of the competitions\"\n",
    "    \"\\n\\nRequirements:\"\n",
    "    \"\\n1. Sources: When you write the article you use take the information about main_topic_key from the {sources}. Print list of sources in the end of the article\"\n",
    "    \"\\n2. Length: The article should be at least 1,000 words long to provide a comprehensive exploration of the topic.\"\n",
    "    \"\\n3. Key Points:\"\n",
    "    \"\\n   - Discuss about main_topic_key. Write minimum about 5 cases\"\n",
    "    \"\\n   - Highlight the potential benefits and opportunities of main_topic_key.\"\n",
    "    \"\\n   - Address the risks and challenges associated with main_topic_key.\"\n",
    "    \"\\n   - Explore the future implications of main_topic_key and how it may shape the world in the coming years.\"\n",
    "    \"\\n4. Tone and Style:\"\n",
    "    \"\\n   - Create an engaging and thought-provoking piece that raises questions and encourages readers to consider about main_topic_key.\"\n",
    "    \"\\n   - Use a clear, concise, and compelling writing style that resonates with a wide audience.\"\n",
    "    \"\\n   - Incorporate real-life examples, anecdotes, or expert opinions to support your arguments and make the content more relatable.\"\n",
    "    \"\\n   - Ensure that the blog post reads as if it were written by a human, with a natural flow and appropriate emotional touch.\"\n",
    "    \"\\n5. Structure:\"\n",
    "    \"\\n   - Begin with a captivating introduction that hooks the reader and sets the context for the article.\"\n",
    "    \"\\n   - Organize the main points into logical sections and subsections, each focusing on a specific aspect of main_topic_key impact.\"\n",
    "    \"\\n   - Use appropriate transitions and linking words to ensure a smooth flow of ideas throughout the post.\"\n",
    "    \"\\n   - Conclude with a powerful message that summarizes the key takeaways and leaves the reader with food for thought.\"\n",
    "    \"\\n6. Additional Requirements:\"\n",
    "    \"\\n   - Conduct thorough research using reliable sources to gather relevant information, statistics, and expert opinions.\"\n",
    "    \"\\n   - Optimize the blog post for search engines by including relevant keywords and meta tags.\"\n",
    "    \"\\n   - Format the post using appropriate headings, subheadings, bullet points, and images to enhance readability and visual appeal.\"\n",
    "    \"\\n   - Proofread and edit the final draft to ensure it is error-free and polished.\"\n",
    ")"
   ]
  }
 ],
 "metadata": {
  "kernelspec": {
   "display_name": "Python 3 (ipykernel)",
   "language": "python",
   "name": "python3"
  },
  "language_info": {
   "codemirror_mode": {
    "name": "ipython",
    "version": 3
   },
   "file_extension": ".py",
   "mimetype": "text/x-python",
   "name": "python",
   "nbconvert_exporter": "python",
   "pygments_lexer": "ipython3",
   "version": "3.11.5"
  }
 },
 "nbformat": 4,
 "nbformat_minor": 5
}
